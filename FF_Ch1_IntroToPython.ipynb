{
  "cells": [
    {
      "cell_type": "markdown",
      "metadata": {
        "id": "view-in-github",
        "colab_type": "text"
      },
      "source": [
        "<a href=\"https://colab.research.google.com/github/emartinmorgan/FF_NFL_Project/blob/main/FF_Ch1_IntroToPython.ipynb\" target=\"_parent\"><img src=\"https://colab.research.google.com/assets/colab-badge.svg\" alt=\"Open In Colab\"/></a>"
      ]
    },
    {
      "cell_type": "markdown",
      "metadata": {
        "id": "t5g0aY3XjhVA"
      },
      "source": [
        "#Chapter 1 - Intro to Python\n",
        "\n",
        "Variable - assigning data to a location in memory. Assigned using the = sign. In \"x=2\" we're saying assign the data 2 to variable x.\n",
        "\n",
        "To output something - have it as last line in code. See rushing_yards below."
      ]
    },
    {
      "cell_type": "markdown",
      "source": [
        "## Intro"
      ],
      "metadata": {
        "id": "3fgSGTGdZ5-5"
      }
    },
    {
      "cell_type": "code",
      "execution_count": null,
      "metadata": {
        "colab": {
          "base_uri": "https://localhost:8080/"
        },
        "id": "__vGppxinDHO",
        "outputId": "cfb7d264-b12c-48a6-be21-8d4bd0278b92"
      },
      "outputs": [
        {
          "data": {
            "text/plain": [
              "20"
            ]
          },
          "execution_count": 11,
          "metadata": {},
          "output_type": "execute_result"
        }
      ],
      "source": [
        "#create a variable\n",
        "rushing_yards = 20\n",
        "rushing_yards"
      ]
    },
    {
      "cell_type": "code",
      "execution_count": null,
      "metadata": {
        "colab": {
          "base_uri": "https://localhost:8080/",
          "height": 36
        },
        "id": "tBdGmWA2nRlX",
        "outputId": "1dc22a69-357b-49cc-bbc5-d77076582b01"
      },
      "outputs": [
        {
          "data": {
            "application/vnd.google.colaboratory.intrinsic+json": {
              "type": "string"
            },
            "text/plain": [
              "'Target Rookie running backs with first round draft capital.'"
            ]
          },
          "execution_count": 12,
          "metadata": {},
          "output_type": "execute_result"
        }
      ],
      "source": [
        "rookie_rb_strategy = 'Target Rookie running backs with first round draft capital.'\n",
        "rookie_rb_strategy"
      ]
    },
    {
      "cell_type": "markdown",
      "source": [
        "## Data Types"
      ],
      "metadata": {
        "id": "9K951AxQZySc"
      }
    },
    {
      "cell_type": "code",
      "execution_count": null,
      "metadata": {
        "colab": {
          "base_uri": "https://localhost:8080/",
          "height": 36
        },
        "id": "fidLJO0Cnl3o",
        "outputId": "32a3d02c-5127-4c72-dc53-a6e51ee1aef3"
      },
      "outputs": [
        {
          "data": {
            "application/vnd.google.colaboratory.intrinsic+json": {
              "type": "string"
            },
            "text/plain": [
              "\"When drafting at QB, consider 'Late-Round Quarterback' as a draft strategy\""
            ]
          },
          "execution_count": 13,
          "metadata": {},
          "output_type": "execute_result"
        }
      ],
      "source": [
        "#strings with multiple quotes\n",
        "late_round_qb = \"When drafting at QB, consider 'Late-Round Quarterback' as a draft strategy\"\n",
        "late_round_qb"
      ]
    },
    {
      "cell_type": "code",
      "execution_count": null,
      "metadata": {
        "colab": {
          "base_uri": "https://localhost:8080/",
          "height": 36
        },
        "id": "q1J1iNVWnwA1",
        "outputId": "8fbd24ff-a7e1-4951-a613-6ad7e9c7279a"
      },
      "outputs": [
        {
          "data": {
            "application/vnd.google.colaboratory.intrinsic+json": {
              "type": "string"
            },
            "text/plain": [
              "'Deandre Hopkins'"
            ]
          },
          "execution_count": 14,
          "metadata": {},
          "output_type": "execute_result"
        }
      ],
      "source": [
        "#concatenation\n",
        "first_name = 'Deandre'\n",
        "last_name = 'Hopkins'\n",
        "full_name = first_name + ' ' + last_name\n",
        "full_name"
      ]
    },
    {
      "cell_type": "code",
      "execution_count": null,
      "metadata": {
        "colab": {
          "base_uri": "https://localhost:8080/"
        },
        "id": "X45KNhtUoe87",
        "outputId": "1c84a55e-8371-40cc-9e51-d880f3f25b30"
      },
      "outputs": [
        {
          "data": {
            "text/plain": [
              "3"
            ]
          },
          "execution_count": 15,
          "metadata": {},
          "output_type": "execute_result"
        }
      ],
      "source": [
        "#integers\n",
        "#add\n",
        "passing_yards = 350\n",
        "passing_yards\n",
        "passing_yards + 50\n",
        "1+2"
      ]
    },
    {
      "cell_type": "code",
      "execution_count": null,
      "metadata": {
        "colab": {
          "base_uri": "https://localhost:8080/"
        },
        "id": "g_xYb86yo5UX",
        "outputId": "c5e0f125-1ccd-452d-9608-b75a02b4477f"
      },
      "outputs": [
        {
          "data": {
            "text/plain": [
              "0.5"
            ]
          },
          "execution_count": 16,
          "metadata": {},
          "output_type": "execute_result"
        }
      ],
      "source": [
        "#divide\n",
        "1/2"
      ]
    },
    {
      "cell_type": "code",
      "execution_count": null,
      "metadata": {
        "colab": {
          "base_uri": "https://localhost:8080/"
        },
        "id": "eG5-Nm_Lpwsm",
        "outputId": "82118619-e025-4549-f491-a75074c4b38c"
      },
      "outputs": [
        {
          "data": {
            "text/plain": [
              "-1"
            ]
          },
          "execution_count": 17,
          "metadata": {},
          "output_type": "execute_result"
        }
      ],
      "source": [
        "#subtract\n",
        "1-2"
      ]
    },
    {
      "cell_type": "code",
      "execution_count": null,
      "metadata": {
        "colab": {
          "base_uri": "https://localhost:8080/"
        },
        "id": "1KXEyXCDp8NQ",
        "outputId": "6984682f-2d15-4d75-cbe5-344894b8f6f1"
      },
      "outputs": [
        {
          "data": {
            "text/plain": [
              "12"
            ]
          },
          "execution_count": 18,
          "metadata": {},
          "output_type": "execute_result"
        }
      ],
      "source": [
        "#multiply\n",
        "3*4"
      ]
    },
    {
      "cell_type": "code",
      "execution_count": null,
      "metadata": {
        "colab": {
          "base_uri": "https://localhost:8080/"
        },
        "id": "c6V_IonMp_KH",
        "outputId": "a62decd3-7d9a-4dee-fb48-5389a9132f04"
      },
      "outputs": [
        {
          "data": {
            "text/plain": [
              "9"
            ]
          },
          "execution_count": 19,
          "metadata": {},
          "output_type": "execute_result"
        }
      ],
      "source": [
        "#powers\n",
        "3**2"
      ]
    },
    {
      "cell_type": "code",
      "execution_count": null,
      "metadata": {
        "id": "TpSfRj6WqF7o"
      },
      "outputs": [],
      "source": [
        "#modulus and floor division - not covered"
      ]
    },
    {
      "cell_type": "code",
      "execution_count": null,
      "metadata": {
        "colab": {
          "base_uri": "https://localhost:8080/"
        },
        "id": "lGtNFfbCqRGx",
        "outputId": "4ced0e61-ddd9-454a-e47c-5f9306289ae0"
      },
      "outputs": [
        {
          "data": {
            "text/plain": [
              "3.5"
            ]
          },
          "execution_count": 21,
          "metadata": {},
          "output_type": "execute_result"
        }
      ],
      "source": [
        "#floats\n",
        "3.5\n",
        "#numbers with no decimal are integers, numbers with decimals are floats"
      ]
    },
    {
      "cell_type": "markdown",
      "source": [
        "## Lists"
      ],
      "metadata": {
        "id": "KrMqIZfDZuni"
      }
    },
    {
      "cell_type": "code",
      "execution_count": null,
      "metadata": {
        "colab": {
          "base_uri": "https://localhost:8080/"
        },
        "id": "w4dqQaagqbs0",
        "outputId": "599cadee-1e49-4570-89ee-dbffc88534dd"
      },
      "outputs": [
        {
          "data": {
            "text/plain": [
              "[59.5, 57.9, 57.4, 56.2]"
            ]
          },
          "execution_count": 22,
          "metadata": {},
          "output_type": "execute_result"
        }
      ],
      "source": [
        "#Lists - ordered collection of python objects\n",
        "#lists must be ordered, and contain other python objects\n",
        "#objects don't have to be the same type\n",
        "#separate objects by ,\n",
        "most_single_game_ppr_points = [59.5,57.9,57.4,56.2]\n",
        "most_single_game_ppr_points #notice it is in descending order"
      ]
    },
    {
      "cell_type": "code",
      "execution_count": null,
      "metadata": {
        "colab": {
          "base_uri": "https://localhost:8080/"
        },
        "id": "yxUJfg1wq1j5",
        "outputId": "89c5222d-67dc-4e03-df7b-65196ca3d79c"
      },
      "outputs": [
        {
          "data": {
            "text/plain": [
              "['Rushing', 296, 295, 186, 278]"
            ]
          },
          "execution_count": 23,
          "metadata": {},
          "output_type": "execute_result"
        }
      ],
      "source": [
        "most_single_game_rushing_yards = ['Rushing', 296, 295, 186, 278]\n",
        "most_single_game_rushing_foryards #has mixed types, not recommended, but possible"
      ]
    },
    {
      "cell_type": "code",
      "execution_count": null,
      "metadata": {
        "colab": {
          "base_uri": "https://localhost:8080/"
        },
        "id": "XRNvJsMKrBKE",
        "outputId": "d4d134f5-0a51-4d08-e0ac-f9490ef0f148"
      },
      "outputs": [
        {
          "data": {
            "text/plain": [
              "[['Rushing', 296, 295, 186, 278], ['Rushing', 296, 295, 186, 278]]"
            ]
          },
          "execution_count": 24,
          "metadata": {},
          "output_type": "execute_result"
        }
      ],
      "source": [
        "list_of_lists = [most_single_game_rushing_yards,most_single_game_rushing_yards]\n",
        "list_of_lists"
      ]
    },
    {
      "cell_type": "code",
      "execution_count": null,
      "metadata": {
        "colab": {
          "base_uri": "https://localhost:8080/"
        },
        "id": "YWmMXORArTHQ",
        "outputId": "232e2616-afac-4b24-d1c4-9634ad7749cc"
      },
      "outputs": [
        {
          "data": {
            "text/plain": [
              "57.4"
            ]
          },
          "execution_count": 25,
          "metadata": {},
          "output_type": "execute_result"
        }
      ],
      "source": [
        "#list indexing\n",
        "#pull element of list based on position in list\n",
        "#use the index position (starting at 0) of the list\n",
        "most_single_game_ppr_points[1]\n",
        "most_single_game_ppr_points[-1]\n",
        "most_single_game_ppr_points[-2]"
      ]
    },
    {
      "cell_type": "markdown",
      "source": [
        "## Dictionaries"
      ],
      "metadata": {
        "id": "vippDBtBZrbt"
      }
    },
    {
      "cell_type": "code",
      "execution_count": null,
      "metadata": {
        "colab": {
          "base_uri": "https://localhost:8080/"
        },
        "id": "bFIkYlqtr7-o",
        "outputId": "ac77aa06-be85-4757-dbf7-f4f0e6f83305"
      },
      "outputs": [
        {
          "data": {
            "text/plain": [
              "{'name': 'AJ Brown', 'catches': 145, 'targets': 191}"
            ]
          },
          "execution_count": 26,
          "metadata": {},
          "output_type": "execute_result"
        }
      ],
      "source": [
        "#dictionary - collection of key value pairs\n",
        "#think of dictionary as multiple excel columns\n",
        "#Keys are column names, values are cells.\n",
        "#Keys have to be strings, values can be anything\n",
        "player = {\n",
        "    \"name\": \"AJ Brown\",\n",
        "    \"catches\": 145,\n",
        "    \"targets\": 191\n",
        "}\n",
        "player"
      ]
    },
    {
      "cell_type": "code",
      "execution_count": null,
      "metadata": {
        "colab": {
          "base_uri": "https://localhost:8080/"
        },
        "id": "u8OGBzUBsjQu",
        "outputId": "1d7d3509-4f0a-499a-fa54-768f7faa9bc6"
      },
      "outputs": [
        {
          "data": {
            "text/plain": [
              "191"
            ]
          },
          "execution_count": 27,
          "metadata": {},
          "output_type": "execute_result"
        }
      ],
      "source": [
        "targets = player['targets']\n",
        "targets"
      ]
    },
    {
      "cell_type": "code",
      "execution_count": null,
      "metadata": {
        "colab": {
          "base_uri": "https://localhost:8080/"
        },
        "id": "IWqfd1Abs9aW",
        "outputId": "13b3a1ba-14c7-4b3a-9d70-2e94c1510777"
      },
      "outputs": [
        {
          "data": {
            "text/plain": [
              "145"
            ]
          },
          "execution_count": 28,
          "metadata": {},
          "output_type": "execute_result"
        }
      ],
      "source": [
        "catches = player['catches']\n",
        "catches"
      ]
    },
    {
      "cell_type": "code",
      "execution_count": null,
      "metadata": {
        "colab": {
          "base_uri": "https://localhost:8080/"
        },
        "id": "vJlpYEqdtDaj",
        "outputId": "577e9765-a5b9-452f-a085-ec48561f8fc8"
      },
      "outputs": [
        {
          "data": {
            "text/plain": [
              "0.7591623036649214"
            ]
          },
          "execution_count": 29,
          "metadata": {},
          "output_type": "execute_result"
        }
      ],
      "source": [
        "catch_rate = catches/targets\n",
        "catch_rate"
      ]
    },
    {
      "cell_type": "markdown",
      "source": [
        "## Built in Functions"
      ],
      "metadata": {
        "id": "yxORgzVxZn4j"
      }
    },
    {
      "cell_type": "code",
      "execution_count": null,
      "metadata": {
        "colab": {
          "base_uri": "https://localhost:8080/"
        },
        "id": "Bmf60UoLJRGB",
        "outputId": "c6d471bb-8f2c-4f4c-9ab0-0fbfd0c2907b"
      },
      "outputs": [
        {
          "name": "stdout",
          "output_type": "stream",
          "text": [
            "Hello World\n",
            "Christian McCaffrey is the goat\n"
          ]
        }
      ],
      "source": [
        "#functions\n",
        "print('Hello World')\n",
        "player_name = 'Christian McCaffrey is the goat'\n",
        "print(player_name)"
      ]
    },
    {
      "cell_type": "code",
      "execution_count": null,
      "metadata": {
        "colab": {
          "base_uri": "https://localhost:8080/",
          "height": 36
        },
        "id": "DX8XoN5AJxC4",
        "outputId": "19d17e17-e2d2-4d87-9d2c-706bf00f990b"
      },
      "outputs": [
        {
          "data": {
            "application/vnd.google.colaboratory.intrinsic+json": {
              "type": "string"
            },
            "text/plain": [
              "'Christian McCaffrey receptions: 100'"
            ]
          },
          "execution_count": 31,
          "metadata": {},
          "output_type": "execute_result"
        }
      ],
      "source": [
        "#concatenation and str() conversion\n",
        "receptions = 100\n",
        "player_description = 'Christian McCaffrey receptions: '\n",
        "#receptions + player_description # results in type error\n",
        "player_description + str(receptions)"
      ]
    },
    {
      "cell_type": "code",
      "execution_count": null,
      "metadata": {
        "colab": {
          "base_uri": "https://localhost:8080/"
        },
        "id": "cXA-oEw8KKoB",
        "outputId": "bb0625cc-d836-498f-b31a-ac827e3bc3ce"
      },
      "outputs": [
        {
          "data": {
            "text/plain": [
              "4"
            ]
          },
          "execution_count": 32,
          "metadata": {},
          "output_type": "execute_result"
        }
      ],
      "source": [
        "#length()\n",
        "len(most_single_game_ppr_points)"
      ]
    },
    {
      "cell_type": "code",
      "execution_count": null,
      "metadata": {
        "colab": {
          "base_uri": "https://localhost:8080/"
        },
        "id": "1N6xRdqAKZrL",
        "outputId": "a6a79796-7140-4f8b-c7f7-ce7998f5f245"
      },
      "outputs": [
        {
          "data": {
            "text/plain": [
              "int"
            ]
          },
          "execution_count": 33,
          "metadata": {},
          "output_type": "execute_result"
        }
      ],
      "source": [
        "#type()\n",
        "#string literal is the data itself within a variable, the actual text of string variable.\n",
        "#String variable, string literal\n",
        "type(rushing_yards)"
      ]
    },
    {
      "cell_type": "markdown",
      "source": [
        "## For Loop"
      ],
      "metadata": {
        "id": "x6dqSYkTZfZH"
      }
    },
    {
      "cell_type": "code",
      "execution_count": null,
      "metadata": {
        "colab": {
          "base_uri": "https://localhost:8080/"
        },
        "id": "7h8oocvPK5U2",
        "outputId": "96ad2a28-ae4e-45a5-9e4d-239979680cf6"
      },
      "outputs": [
        {
          "name": "stdout",
          "output_type": "stream",
          "text": [
            "13.0\n",
            "12.84\n",
            "16.0\n",
            "7.2\n"
          ]
        }
      ],
      "source": [
        "#for loop - iteration over lists\n",
        "passing_yards_totals_for_wk5_nfc_east_qbs = [325,321,400,180]\n",
        "for passing_yards_totals in passing_yards_totals_for_wk5_nfc_east_qbs:\n",
        "  #just made up passing_yards_totals on the fly\n",
        "  print(passing_yards_totals / 25) #must indent"
      ]
    },
    {
      "cell_type": "code",
      "execution_count": null,
      "metadata": {
        "colab": {
          "base_uri": "https://localhost:8080/"
        },
        "id": "1iux8lrtVlWn",
        "outputId": "7bb704b5-5bb7-48fe-f414-351aa12d5f50"
      },
      "outputs": [
        {
          "name": "stdout",
          "output_type": "stream",
          "text": [
            "AJ Brown has a catch rate of 0.6068965517241379\n",
            "CeeDee Lamb has a catch rate of 0.6858974358974359\n",
            "Justin Jefferson has a catch rate of 0.6956521739130435\n"
          ]
        }
      ],
      "source": [
        "players = [{\n",
        "    'name': 'AJ Brown',\n",
        "    'catches': 88,\n",
        "    'targets': 145\n",
        "}, {\n",
        "    'name': 'CeeDee Lamb',\n",
        "    'catches': 107,\n",
        "    'targets': 156\n",
        "}, {\n",
        "    'name': 'Justin Jefferson',\n",
        "    'catches': 128,\n",
        "    'targets': 184\n",
        "}\n",
        "]\n",
        "\n",
        "for player in players:\n",
        "  name = player['name']\n",
        "  catches = player['catches']\n",
        "  targets = player['targets']\n",
        "  catch_rate = catches/targets\n",
        "  print(name + ' has a catch rate of ' + str(catch_rate))"
      ]
    }
  ],
  "metadata": {
    "colab": {
      "provenance": [],
      "toc_visible": true,
      "authorship_tag": "ABX9TyNWreFNo5jjmM3mI0t20/9W",
      "include_colab_link": true
    },
    "kernelspec": {
      "display_name": "Python 3",
      "name": "python3"
    },
    "language_info": {
      "name": "python"
    }
  },
  "nbformat": 4,
  "nbformat_minor": 0
}