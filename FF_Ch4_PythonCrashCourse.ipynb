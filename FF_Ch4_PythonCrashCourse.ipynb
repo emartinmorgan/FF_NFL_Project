{
  "nbformat": 4,
  "nbformat_minor": 0,
  "metadata": {
    "colab": {
      "provenance": [],
      "toc_visible": true,
      "authorship_tag": "ABX9TyPnG/gxmqdQ1wtrsTyVf5F7",
      "include_colab_link": true
    },
    "kernelspec": {
      "name": "python3",
      "display_name": "Python 3"
    },
    "language_info": {
      "name": "python"
    }
  },
  "cells": [
    {
      "cell_type": "markdown",
      "metadata": {
        "id": "view-in-github",
        "colab_type": "text"
      },
      "source": [
        "<a href=\"https://colab.research.google.com/github/emartinmorgan/FF_NFL_Project/blob/main/FF_Ch4_PythonCrashCourse.ipynb\" target=\"_parent\"><img src=\"https://colab.research.google.com/assets/colab-badge.svg\" alt=\"Open In Colab\"/></a>"
      ]
    },
    {
      "cell_type": "markdown",
      "metadata": {
        "id": "iZ4E7dCmFmla"
      },
      "source": [
        "# Chapter 4 - Python Crash Course Recap"
      ]
    },
    {
      "cell_type": "markdown",
      "metadata": {
        "id": "QjaSy26Nv3S8"
      },
      "source": [
        "##Built in Methods"
      ]
    },
    {
      "cell_type": "markdown",
      "source": [
        "###String Methods"
      ],
      "metadata": {
        "id": "3f9aZO1eXoQE"
      }
    },
    {
      "cell_type": "code",
      "execution_count": null,
      "metadata": {
        "colab": {
          "base_uri": "https://localhost:8080/"
        },
        "id": "EL1F2eYsFpVM",
        "outputId": "1af17f5c-4101-45a9-c08c-4ed49c9a331a"
      },
      "outputs": [
        {
          "output_type": "execute_result",
          "data": {
            "text/plain": [
              "['Lamar', 'Jackson', 'left', 'end', 'for', '10', 'yards']"
            ]
          },
          "metadata": {},
          "execution_count": 1
        }
      ],
      "source": [
        "#Built in methods\n",
        "#string methods\n",
        "#split method\n",
        "play_description = 'Lamar Jackson left end for 10 yards'\n",
        "#split this string into a list\n",
        "play_description.split(' ') #splits everything based on white space, like text to columns"
      ]
    },
    {
      "cell_type": "code",
      "execution_count": null,
      "metadata": {
        "id": "b6TIWrUfkHZ6"
      },
      "outputs": [],
      "source": [
        "first_name = play_description.split()[0]\n",
        "first_name\n",
        "last_name = play_description.split()[1]"
      ]
    },
    {
      "cell_type": "code",
      "execution_count": null,
      "metadata": {
        "colab": {
          "base_uri": "https://localhost:8080/",
          "height": 36
        },
        "id": "unkcMSOckysQ",
        "outputId": "6b792470-bec5-4b07-e46d-f01443d6f732"
      },
      "outputs": [
        {
          "output_type": "execute_result",
          "data": {
            "text/plain": [
              "'Lamar Jackson'"
            ],
            "application/vnd.google.colaboratory.intrinsic+json": {
              "type": "string"
            }
          },
          "metadata": {},
          "execution_count": 3
        }
      ],
      "source": [
        "full_name = first_name + ' ' + last_name\n",
        "full_name"
      ]
    },
    {
      "cell_type": "code",
      "execution_count": null,
      "metadata": {
        "id": "wEOW3okUk9YL"
      },
      "outputs": [],
      "source": [
        "#string methods\n",
        "#format method\n",
        "play_description2 = '{} {} left end for 10 yards'\n",
        "#curly braces allow us to put data into the string after the fact"
      ]
    },
    {
      "cell_type": "code",
      "execution_count": null,
      "metadata": {
        "id": "YSi1zR-NlVi_"
      },
      "outputs": [],
      "source": [
        "# play_description2.format()\n",
        "# #this won't work until something is entered into the curly brackets"
      ]
    },
    {
      "cell_type": "code",
      "execution_count": null,
      "metadata": {
        "id": "M-qDXnbqlvdS",
        "colab": {
          "base_uri": "https://localhost:8080/",
          "height": 36
        },
        "outputId": "8790296a-c999-4cba-e06e-7010c2d92b43"
      },
      "outputs": [
        {
          "output_type": "execute_result",
          "data": {
            "text/plain": [
              "'Russell Wilson left end for 10 yards'"
            ],
            "application/vnd.google.colaboratory.intrinsic+json": {
              "type": "string"
            }
          },
          "metadata": {},
          "execution_count": 7
        }
      ],
      "source": [
        "play_description2 = '{first_name} {last_name} left end for 10 yards'\n",
        "play_description2.format(first_name = 'Russell', last_name = 'Wilson')"
      ]
    },
    {
      "cell_type": "code",
      "execution_count": null,
      "metadata": {
        "id": "eYZtmx1FmFQ_",
        "colab": {
          "base_uri": "https://localhost:8080/",
          "height": 36
        },
        "outputId": "2469c2b7-47fd-4855-b3f2-95350dc98f4e"
      },
      "outputs": [
        {
          "output_type": "execute_result",
          "data": {
            "text/plain": [
              "'Russell Wilson left end for 10 yards'"
            ],
            "application/vnd.google.colaboratory.intrinsic+json": {
              "type": "string"
            }
          },
          "metadata": {},
          "execution_count": 8
        }
      ],
      "source": [
        "play_description3 = '{} {} left end for 10 yards'\n",
        "play_description3.format('Russell','Wilson')"
      ]
    },
    {
      "cell_type": "code",
      "execution_count": null,
      "metadata": {
        "id": "utqG7yQxmTNn",
        "colab": {
          "base_uri": "https://localhost:8080/",
          "height": 36
        },
        "outputId": "b1165745-fbf2-4ec0-ea97-4b1f3f56aee3"
      },
      "outputs": [
        {
          "output_type": "execute_result",
          "data": {
            "text/plain": [
              "'Lamar Jackson left end for 50 yards'"
            ],
            "application/vnd.google.colaboratory.intrinsic+json": {
              "type": "string"
            }
          },
          "metadata": {},
          "execution_count": 9
        }
      ],
      "source": [
        "#string methods\n",
        "#format method - f strings\n",
        "first_name = 'Lamar'\n",
        "last_name = 'Jackson'\n",
        "yards = 40\n",
        "play_description4 = f'{first_name} {last_name} left end for {yards + 10} yards'\n",
        "\n",
        "play_description4\n",
        "#new feature where we don't have to use the .format() method, more convenient\n",
        "#part of python 3.6 and above\n",
        "#embed variables and expressions (like math - see use of yards)\n",
        "\n"
      ]
    },
    {
      "cell_type": "code",
      "execution_count": null,
      "metadata": {
        "id": "1WuLqZn3nQNI",
        "colab": {
          "base_uri": "https://localhost:8080/",
          "height": 36
        },
        "outputId": "b7a6367c-2967-42fe-93ad-058defee596a"
      },
      "outputs": [
        {
          "output_type": "execute_result",
          "data": {
            "text/plain": [
              "'Lamar Jackson'"
            ],
            "application/vnd.google.colaboratory.intrinsic+json": {
              "type": "string"
            }
          },
          "metadata": {},
          "execution_count": 10
        }
      ],
      "source": [
        "#string methods\n",
        "#join method - opposite of split method\n",
        "' '.join(['Lamar', 'Jackson'])\n",
        "#starts with the white space (or whatever you choose) that will be in between\n",
        "#the joined strings\n",
        "#join takes a list in the function, the list is everything being joined\n",
        "#good for joining a large amount of strings"
      ]
    },
    {
      "cell_type": "code",
      "execution_count": null,
      "metadata": {
        "id": "GhotUn43oG7R",
        "colab": {
          "base_uri": "https://localhost:8080/",
          "height": 36
        },
        "outputId": "7dc3a6d7-3783-461f-bb56-02007c1ce0e0"
      },
      "outputs": [
        {
          "output_type": "execute_result",
          "data": {
            "text/plain": [
              "'Lamar Jackson'"
            ],
            "application/vnd.google.colaboratory.intrinsic+json": {
              "type": "string"
            }
          },
          "metadata": {},
          "execution_count": 11
        }
      ],
      "source": [
        "#same as below, and easier when number of strings increases\n",
        "'Lamar' + ' ' + 'Jackson'"
      ]
    },
    {
      "cell_type": "markdown",
      "metadata": {
        "id": "VhY8fNUWvqRW"
      },
      "source": [
        "### Dictionary Methods"
      ]
    },
    {
      "cell_type": "code",
      "execution_count": null,
      "metadata": {
        "id": "nSecXvAqoImN",
        "colab": {
          "base_uri": "https://localhost:8080/"
        },
        "outputId": "ea5a345f-eca2-4d03-e252-1e295d077c8f"
      },
      "outputs": [
        {
          "output_type": "execute_result",
          "data": {
            "text/plain": [
              "{'player_name': 'Kenneth Walker', 'rushing_yards': 1050}"
            ]
          },
          "metadata": {},
          "execution_count": 12
        }
      ],
      "source": [
        "#Built in methods\n",
        "#dictionary methods - manipulate dictionaries in various ways\n",
        "fantasy_data = {\n",
        "    'player_name': 'Kenneth Walker',\n",
        "    'rushing_yards': 1050\n",
        "}\n",
        "fantasy_data"
      ]
    },
    {
      "cell_type": "code",
      "execution_count": null,
      "metadata": {
        "id": "LU3hui9vqeoE",
        "colab": {
          "base_uri": "https://localhost:8080/"
        },
        "outputId": "2d01d07c-fb32-4b8b-d96b-d71c013f552b"
      },
      "outputs": [
        {
          "output_type": "execute_result",
          "data": {
            "text/plain": [
              "{'player_name': 'Kenneth Walker',\n",
              " 'rushing_yards': 1050,\n",
              " 'rushing_touchdowns': 9}"
            ]
          },
          "metadata": {},
          "execution_count": 13
        }
      ],
      "source": [
        "fantasy_data['rushing_touchdowns'] = 9\n",
        "#appended an item to an existing dictionary\n",
        "\n",
        "fantasy_data"
      ]
    },
    {
      "cell_type": "code",
      "execution_count": null,
      "metadata": {
        "id": "s1wDJCPZqg1I",
        "colab": {
          "base_uri": "https://localhost:8080/"
        },
        "outputId": "ca3f630e-1077-4f34-c614-ea78e62cc8fb"
      },
      "outputs": [
        {
          "output_type": "execute_result",
          "data": {
            "text/plain": [
              "{'player_name': 'Kenneth Walker',\n",
              " 'rushing_yards': 1300,\n",
              " 'rushing_touchdowns': 9}"
            ]
          },
          "metadata": {},
          "execution_count": 14
        }
      ],
      "source": [
        "fantasy_data['rushing_yards'] = 1300\n",
        "#alter existing data in dictionary\n",
        "fantasy_data"
      ]
    },
    {
      "cell_type": "code",
      "execution_count": null,
      "metadata": {
        "id": "mTXVYFagquYr",
        "colab": {
          "base_uri": "https://localhost:8080/"
        },
        "outputId": "d98db8ed-4f74-4918-8199-89bcc368b16a"
      },
      "outputs": [
        {
          "output_type": "execute_result",
          "data": {
            "text/plain": [
              "128"
            ]
          },
          "metadata": {},
          "execution_count": 15
        }
      ],
      "source": [
        "#dictionary methods\n",
        "#get\n",
        "\n",
        "player = {\n",
        "    'name': 'Justin Jefferson',\n",
        "    'catches': 128\n",
        "}\n",
        "#syntax to grab # catches from dataframe/dictionary\n",
        "#reference dictionary, pass in key value within brackets, output variable\n",
        "catches = player['catches']\n",
        "catches\n",
        "\n",
        "#what if you don't know/remember the contents of the dicitonary?"
      ]
    },
    {
      "cell_type": "code",
      "execution_count": null,
      "metadata": {
        "id": "6noMwUI3rLw0",
        "colab": {
          "base_uri": "https://localhost:8080/"
        },
        "outputId": "7a757d2d-1b1f-4464-bfc3-6c98c384f7cd"
      },
      "outputs": [
        {
          "output_type": "stream",
          "name": "stdout",
          "text": [
            "Key catches exisits within player\n"
          ]
        }
      ],
      "source": [
        "if 'catches' in player:\n",
        "  print('Key catches exisits within player')\n",
        "#checks to see if key exists within dictionary"
      ]
    },
    {
      "cell_type": "code",
      "execution_count": null,
      "metadata": {
        "id": "32pgxEBDro8B",
        "colab": {
          "base_uri": "https://localhost:8080/",
          "height": 189
        },
        "outputId": "7567700b-d556-46fa-d128-183d81f44a19"
      },
      "outputs": [
        {
          "output_type": "error",
          "ename": "KeyError",
          "evalue": "ignored",
          "traceback": [
            "\u001b[0;31m---------------------------------------------------------------------------\u001b[0m",
            "\u001b[0;31mKeyError\u001b[0m                                  Traceback (most recent call last)",
            "\u001b[0;32m<ipython-input-17-1065092be2bd>\u001b[0m in \u001b[0;36m<cell line: 2>\u001b[0;34m()\u001b[0m\n\u001b[1;32m      1\u001b[0m \u001b[0;31m#if we check for a key that does not exist in dict, we get a key error\u001b[0m\u001b[0;34m\u001b[0m\u001b[0;34m\u001b[0m\u001b[0m\n\u001b[0;32m----> 2\u001b[0;31m \u001b[0mplayer\u001b[0m\u001b[0;34m[\u001b[0m\u001b[0;34m'targets'\u001b[0m\u001b[0;34m]\u001b[0m\u001b[0;34m\u001b[0m\u001b[0;34m\u001b[0m\u001b[0m\n\u001b[0m",
            "\u001b[0;31mKeyError\u001b[0m: 'targets'"
          ]
        }
      ],
      "source": [
        "# #if we check for a key that does not exist in dict, we get a key error\n",
        "# player['targets']"
      ]
    },
    {
      "cell_type": "code",
      "execution_count": null,
      "metadata": {
        "id": "CD6NXcxBr57x"
      },
      "outputs": [],
      "source": [
        "player.get('catches')\n",
        "#pass in key value as arguement in get()"
      ]
    },
    {
      "cell_type": "code",
      "execution_count": null,
      "metadata": {
        "id": "S5GgXgoDsCjq"
      },
      "outputs": [],
      "source": [
        "player.get('targets')\n",
        "#no output since targets doesn't exist, sidestepping key error\n",
        "# can also add second argument if key does not exist\n",
        "player.get('targets',0)\n",
        "#if key does not exist, return 0"
      ]
    },
    {
      "cell_type": "code",
      "execution_count": null,
      "metadata": {
        "id": "rYr8EqhhsX9N"
      },
      "outputs": [],
      "source": [
        "player.get('catches',0)"
      ]
    },
    {
      "cell_type": "code",
      "execution_count": null,
      "metadata": {
        "id": "S4p_PL4KsaAA"
      },
      "outputs": [],
      "source": [
        "#dictionary methods\n",
        "#items method - great for iterating over dictionary\n",
        "\n",
        "#lists are great for iterating, dictionaries are not iterable by default\n",
        "#but items allows us to iterate\n",
        "\n",
        "player = {\n",
        "    'name': 'Justin Jefferson',\n",
        "    'catches': 128\n",
        "}\n",
        "player.items()\n",
        "\n",
        "#we just called the items method on player\n",
        "#transforms player dict into a 'dict_items' which is iterable"
      ]
    },
    {
      "cell_type": "code",
      "execution_count": null,
      "metadata": {
        "colab": {
          "base_uri": "https://localhost:8080/"
        },
        "id": "xqAkf61LtFT7",
        "outputId": "81cc7a4e-5f1c-4bb9-c569-b52ae920225b"
      },
      "outputs": [
        {
          "output_type": "stream",
          "name": "stdout",
          "text": [
            "name :  Justin Jefferson\n",
            "catches :  128\n"
          ]
        }
      ],
      "source": [
        "for k, v in player.items():\n",
        "  print(k,': ',v)\n",
        "\n",
        "#we are now 'unpacking' the dict_items\n",
        "#each item is a 'tupple'\n",
        "\n",
        "#tupple = two items that are encapsulated by parentheses and separated by comma\n",
        "\n",
        "#we now have a list of tupples to iterate over\n",
        "#iterate over tupple by using twp place holder values (k and v) in the for loop\n",
        "#k and v are an abstraction of what we're interating over; key and value\n",
        "\n",
        "#this is 'unpacking'"
      ]
    },
    {
      "cell_type": "code",
      "execution_count": null,
      "metadata": {
        "colab": {
          "base_uri": "https://localhost:8080/"
        },
        "id": "Lk97WgLbtbYC",
        "outputId": "d7c3f59f-fa49-4028-924c-08dd77932c48"
      },
      "outputs": [
        {
          "output_type": "execute_result",
          "data": {
            "text/plain": [
              "(1, 2)"
            ]
          },
          "metadata": {},
          "execution_count": 19
        }
      ],
      "source": [
        "#a tupple data type will return\n",
        "1,2"
      ]
    },
    {
      "cell_type": "code",
      "execution_count": null,
      "metadata": {
        "colab": {
          "base_uri": "https://localhost:8080/"
        },
        "id": "4UWHlGocuFLV",
        "outputId": "76cec92a-1da8-40b7-8168-1bf87ca9ddb9"
      },
      "outputs": [
        {
          "output_type": "execute_result",
          "data": {
            "text/plain": [
              "dict_items([('name', 'Justin Jefferson'), ('catches', 128), ('yards', 1100)])"
            ]
          },
          "metadata": {},
          "execution_count": 20
        }
      ],
      "source": [
        "player2 = {\n",
        "    'name': 'Justin Jefferson',\n",
        "    'catches': 128,\n",
        "    'yards': 1100\n",
        "}\n",
        "player2.items()"
      ]
    },
    {
      "cell_type": "code",
      "execution_count": null,
      "metadata": {
        "colab": {
          "base_uri": "https://localhost:8080/"
        },
        "id": "xsrOk3rAuKOG",
        "outputId": "0662557d-db3c-493a-f095-9b4855b3d392"
      },
      "outputs": [
        {
          "output_type": "stream",
          "name": "stdout",
          "text": [
            "name :  Justin Jefferson\n",
            "catches :  128\n",
            "yards :  1100\n"
          ]
        }
      ],
      "source": [
        "#for key, value in player2.items():\n",
        "for k, v in player2.items():\n",
        "  print(k,': ',v)"
      ]
    },
    {
      "cell_type": "markdown",
      "metadata": {
        "id": "8uP3_DC-vWuD"
      },
      "source": [
        "### List Methods"
      ]
    },
    {
      "cell_type": "code",
      "execution_count": null,
      "metadata": {
        "colab": {
          "base_uri": "https://localhost:8080/"
        },
        "id": "PVLXcavpvKE2",
        "outputId": "10ce63cd-26c4-4154-c26c-22d95477c880"
      },
      "outputs": [
        {
          "output_type": "execute_result",
          "data": {
            "text/plain": [
              "[1, 2, 3, 4]"
            ]
          },
          "metadata": {},
          "execution_count": 22
        }
      ],
      "source": [
        "#list methods\n",
        "#append method\n",
        "our_list = [1,2,3]\n",
        "our_list.append(4)\n",
        "our_list\n",
        "#our list has been modified - it is mutable"
      ]
    },
    {
      "cell_type": "code",
      "execution_count": null,
      "metadata": {
        "colab": {
          "base_uri": "https://localhost:8080/"
        },
        "id": "LofALe4Vvi7C",
        "outputId": "ea4cc5d8-6e21-4c2a-9e3d-a05ec966a08d"
      },
      "outputs": [
        {
          "output_type": "execute_result",
          "data": {
            "text/plain": [
              "[1, 2, 3, 4, 5, 6, 7, 8, 9, 10, 11, 12, 13, 14, 15, 16, 17, 18, 19, 20]"
            ]
          },
          "metadata": {},
          "execution_count": 23
        }
      ],
      "source": [
        "redzone_yardlines = []\n",
        "for yardline in range(1,21):\n",
        "  redzone_yardlines.append(yardline)\n",
        "\n",
        "redzone_yardlines\n",
        "#range is built in function, that takes in start, stop, step\n",
        "#we iterate over the range,  appending yardlines in the range"
      ]
    },
    {
      "cell_type": "code",
      "execution_count": null,
      "metadata": {
        "colab": {
          "base_uri": "https://localhost:8080/"
        },
        "id": "a_j2monRna10",
        "outputId": "f61d6dd7-072a-413b-f659-aac9c48cdc8c"
      },
      "outputs": [
        {
          "output_type": "execute_result",
          "data": {
            "text/plain": [
              "[1, 2, 3, 4, 5, 6, 7, 8, 9, 10, 11, 12, 13, 14, 15, 16, 17, 18, 19, 20]"
            ]
          },
          "metadata": {},
          "execution_count": 24
        }
      ],
      "source": [
        "#list comprehensions - more concise way of formatting previous exampel\n",
        "redzone_yardlines = [yardline for yardline in range (1,21)]\n",
        "redzone_yardlines\n",
        "#format = [expression for item in iterable]"
      ]
    },
    {
      "cell_type": "code",
      "execution_count": null,
      "metadata": {
        "colab": {
          "base_uri": "https://localhost:8080/"
        },
        "id": "tR0QN8Jln7jA",
        "outputId": "0b88f239-2402-4373-f8ff-b7ea3aee4637"
      },
      "outputs": [
        {
          "output_type": "execute_result",
          "data": {
            "text/plain": [
              "[2, 4, 6, 8, 10, 12, 14, 16, 18, 20, 22, 24, 26, 28, 30, 32, 34, 36, 38, 40]"
            ]
          },
          "metadata": {},
          "execution_count": 25
        }
      ],
      "source": [
        "redzone_yardlines = [yardline *2 for yardline in range (1,21)]\n",
        "redzone_yardlines\n",
        "#list comprehensions are useful with less complex list creation and iterating"
      ]
    },
    {
      "cell_type": "code",
      "execution_count": null,
      "metadata": {
        "colab": {
          "base_uri": "https://localhost:8080/"
        },
        "id": "Kx-UG_wEoWzm",
        "outputId": "7b0093d3-eac4-4f5f-fd6b-4e16c476cb87"
      },
      "outputs": [
        {
          "output_type": "execute_result",
          "data": {
            "text/plain": [
              "[356.9, 340.3]"
            ]
          },
          "metadata": {},
          "execution_count": 26
        }
      ],
      "source": [
        "players = [{\n",
        "    'name': 'Justin Jefferson',\n",
        "    'catches': 128,\n",
        "    'yds': 1809,\n",
        "    'td':8\n",
        "}, {\n",
        "    'name': 'Tyreek Hill',\n",
        "    'catches': 119,\n",
        "    'yds': 1553,\n",
        "    'td':11\n",
        "}]\n",
        "\n",
        "fantasy_points = []\n",
        "for player in players:\n",
        "  points_scored = player.get('catches',0) + player.get('yds',0)*0.1 + player.get('td',0)*6\n",
        "  fantasy_points.append(points_scored)\n",
        "\n",
        "fantasy_points"
      ]
    },
    {
      "cell_type": "code",
      "execution_count": null,
      "metadata": {
        "colab": {
          "base_uri": "https://localhost:8080/"
        },
        "id": "6L5_RdM1pPJG",
        "outputId": "65e79987-59a1-4cf9-b1bf-f852bf2ba328"
      },
      "outputs": [
        {
          "output_type": "execute_result",
          "data": {
            "text/plain": [
              "348.6"
            ]
          },
          "metadata": {},
          "execution_count": 27
        }
      ],
      "source": [
        "sum(fantasy_points) / len(fantasy_points)"
      ]
    },
    {
      "cell_type": "code",
      "execution_count": null,
      "metadata": {
        "colab": {
          "base_uri": "https://localhost:8080/"
        },
        "id": "ajMN1ZFMvild",
        "outputId": "516ddce6-7fc0-4661-ec81-d8436d4646a5"
      },
      "outputs": [
        {
          "output_type": "execute_result",
          "data": {
            "text/plain": [
              "356.9"
            ]
          },
          "metadata": {},
          "execution_count": 28
        }
      ],
      "source": [
        "#it would be better if we took the above and made it a function\n",
        "def calc_fantasy_points(player):\n",
        "  points_scored = player.get('catches',0) + player.get('yds',0)*0.1 + player.get('td',0)*6\n",
        "  return points_scored\n",
        "\n",
        "calc_fantasy_points(players[0])"
      ]
    },
    {
      "cell_type": "code",
      "execution_count": null,
      "metadata": {
        "colab": {
          "base_uri": "https://localhost:8080/"
        },
        "id": "hN_P3bg6vies",
        "outputId": "c72c2368-692f-4dc5-f8fc-6c1fc10902d8"
      },
      "outputs": [
        {
          "output_type": "execute_result",
          "data": {
            "text/plain": [
              "356.9"
            ]
          },
          "metadata": {},
          "execution_count": 29
        }
      ],
      "source": [
        "fantasy_points = [calc_fantasy_points(player) for player in players]\n",
        "fantasy_points[0]"
      ]
    },
    {
      "cell_type": "code",
      "execution_count": null,
      "metadata": {
        "colab": {
          "base_uri": "https://localhost:8080/"
        },
        "id": "S3v3zSK-sp1V",
        "outputId": "0581dcf1-8222-4602-d469-73ab53ab0d1c"
      },
      "outputs": [
        {
          "output_type": "execute_result",
          "data": {
            "text/plain": [
              "340.3"
            ]
          },
          "metadata": {},
          "execution_count": 30
        }
      ],
      "source": [
        "fantasy_points[1]"
      ]
    },
    {
      "cell_type": "code",
      "execution_count": null,
      "metadata": {
        "colab": {
          "base_uri": "https://localhost:8080/"
        },
        "id": "SDi3Z2VkssE_",
        "outputId": "0043136c-d26d-40ac-9e65-f1122edfd0c5"
      },
      "outputs": [
        {
          "output_type": "execute_result",
          "data": {
            "text/plain": [
              "348.6"
            ]
          },
          "metadata": {},
          "execution_count": 31
        }
      ],
      "source": [
        "sum(fantasy_points)/len(fantasy_points)"
      ]
    },
    {
      "cell_type": "markdown",
      "metadata": {
        "id": "8ZsFARnps8KB"
      },
      "source": [
        "### Anonymous functions"
      ]
    },
    {
      "cell_type": "code",
      "execution_count": null,
      "metadata": {
        "colab": {
          "base_uri": "https://localhost:8080/"
        },
        "id": "BmUI5Akls-LY",
        "outputId": "7f0bd297-03cb-4f8e-a5c3-5042b19d540c"
      },
      "outputs": [
        {
          "output_type": "execute_result",
          "data": {
            "text/plain": [
              "[5.0, 7.5, 17.0, 11.5]"
            ]
          },
          "metadata": {},
          "execution_count": 32
        }
      ],
      "source": [
        "#remember - functions can take in any python objects, including other functions\n",
        "#anonymous functions - writing function on the fly without defining it,\n",
        "#and still giving it a name\n",
        "catches = [10,15,34,23]\n",
        "def divide_by_two(x):\n",
        "  return x/2\n",
        "\n",
        "#map() allows us to take in iterable, and map other function over the iterable\n",
        "# instead of for catch in catches, divide by 2, we can map() to pass function over the iterable\n",
        "\n",
        "half_ppr_values = map(divide_by_two, catches)\n",
        "\n",
        "half_ppr_values\n",
        "\n",
        "#this alone isn't useful, have to convert this result to a list.\n",
        "#map returns an iterable, but it's not viewable\n",
        "\n",
        "list(half_ppr_values)\n",
        "\n",
        "#but this is such a simple function that it can be written by an anonymous funciton"
      ]
    },
    {
      "cell_type": "code",
      "execution_count": null,
      "metadata": {
        "colab": {
          "base_uri": "https://localhost:8080/"
        },
        "id": "-5crWrL9viUf",
        "outputId": "ab29eb64-cc3e-40fd-f125-03ef33d4c475"
      },
      "outputs": [
        {
          "output_type": "execute_result",
          "data": {
            "text/plain": [
              "[5.0, 7.5, 17.0, 11.5]"
            ]
          },
          "metadata": {},
          "execution_count": 33
        }
      ],
      "source": [
        "half_ppr_values2 = map(lambda x: x/2, catches)\n",
        "list(half_ppr_values2)\n",
        "# x is the arguement, and the first thing after colon is return value\n",
        "#after comma is the list/iterable that function passes over"
      ]
    },
    {
      "cell_type": "markdown",
      "metadata": {
        "id": "vzuwNXOlwmxc"
      },
      "source": [
        "### While Loops"
      ]
    },
    {
      "cell_type": "code",
      "execution_count": null,
      "metadata": {
        "id": "iF7b9uAvwjoP"
      },
      "outputs": [],
      "source": [
        "# #continues to run the indented block until it evaluates to false\n",
        "# i = 0\n",
        "# while i <=6:\n",
        "#   print(i)\n",
        "#   #this never evaluates to false, and goes on forever"
      ]
    },
    {
      "cell_type": "code",
      "execution_count": null,
      "metadata": {
        "id": "oG1dEcxWwlyD",
        "colab": {
          "base_uri": "https://localhost:8080/"
        },
        "outputId": "cca1fcce-e9c4-4d18-a839-eb879707df28"
      },
      "outputs": [
        {
          "output_type": "stream",
          "name": "stdout",
          "text": [
            "0\n",
            "1\n",
            "2\n",
            "3\n",
            "4\n",
            "5\n",
            "6\n"
          ]
        }
      ],
      "source": [
        "#prints 0 first, but then adds 1. Now prints 1, then adds 1. Now prints 2...etc  up to 6\n",
        "i = 0\n",
        "while i <=6:\n",
        "  print(i)\n",
        "  #this will eventually go over 6\n",
        "  i = i +1"
      ]
    },
    {
      "cell_type": "markdown",
      "metadata": {
        "id": "YVXv8F4nx2pb"
      },
      "source": [
        "### Zip function"
      ]
    },
    {
      "cell_type": "code",
      "execution_count": null,
      "metadata": {
        "colab": {
          "base_uri": "https://localhost:8080/"
        },
        "id": "yiX8_tp8x4Xm",
        "outputId": "27ef0484-5e4a-403f-f108-8f82008a8a52"
      },
      "outputs": [
        {
          "output_type": "execute_result",
          "data": {
            "text/plain": [
              "<zip at 0x7f8cb255e600>"
            ]
          },
          "metadata": {},
          "execution_count": 36
        }
      ],
      "source": [
        "#zip() allows us to zip/package together two iterables into iterable of key values\n",
        "player_names = ['Christian McCaffery', 'Austin Ekeler', 'Rhamondre Stevenon']\n",
        "receptions = [85,107,69]\n",
        "zip(player_names, receptions)"
      ]
    },
    {
      "cell_type": "code",
      "execution_count": null,
      "metadata": {
        "colab": {
          "base_uri": "https://localhost:8080/"
        },
        "id": "zcfc-oe6x4py",
        "outputId": "8d841dff-4b2e-4561-85d9-0af458cd1483"
      },
      "outputs": [
        {
          "output_type": "execute_result",
          "data": {
            "text/plain": [
              "{'Christian McCaffery': 85, 'Austin Ekeler': 107, 'Rhamondre Stevenon': 69}"
            ]
          },
          "metadata": {},
          "execution_count": 37
        }
      ],
      "source": [
        "#create dicitonary of two lists\n",
        "dict(zip(player_names, receptions))"
      ]
    },
    {
      "cell_type": "code",
      "execution_count": null,
      "metadata": {
        "colab": {
          "base_uri": "https://localhost:8080/"
        },
        "id": "Gxh0X9WGx4tK",
        "outputId": "c9f39bb7-4d14-4855-cc12-0ce57182369b"
      },
      "outputs": [
        {
          "output_type": "execute_result",
          "data": {
            "text/plain": [
              "{'Christian McCaffery': 85, 'Austin Ekeler': 107, 'Rhamondre Stevenon': 69}"
            ]
          },
          "metadata": {},
          "execution_count": 38
        }
      ],
      "source": [
        "#save this to variable\n",
        "player_receptions = dict(zip(player_names, receptions))\n",
        "player_receptions"
      ]
    },
    {
      "cell_type": "code",
      "execution_count": null,
      "metadata": {
        "colab": {
          "base_uri": "https://localhost:8080/"
        },
        "id": "twbHu_tKygrh",
        "outputId": "34ed37c9-62a0-4897-8b8e-f6efed692df2"
      },
      "outputs": [
        {
          "output_type": "stream",
          "name": "stdout",
          "text": [
            "Christian McCaffery had 85 in the 2022 season\n",
            "Austin Ekeler had 107 in the 2022 season\n",
            "Rhamondre Stevenon had 69 in the 2022 season\n"
          ]
        }
      ],
      "source": [
        "#now use a for loop to iterate over player and catches\n",
        "for player,catches in player_receptions.items():\n",
        "  print(player + f' had {catches} in the 2022 season')"
      ]
    },
    {
      "cell_type": "code",
      "source": [],
      "metadata": {
        "id": "rse77ULMgX9Y"
      },
      "execution_count": null,
      "outputs": []
    }
  ]
}