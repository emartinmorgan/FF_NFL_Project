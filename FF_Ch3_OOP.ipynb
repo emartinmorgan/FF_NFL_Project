{
  "nbformat": 4,
  "nbformat_minor": 0,
  "metadata": {
    "colab": {
      "provenance": [],
      "toc_visible": true,
      "authorship_tag": "ABX9TyMkfZyJs/kkm4BlgmuQG+1t",
      "include_colab_link": true
    },
    "kernelspec": {
      "name": "python3",
      "display_name": "Python 3"
    },
    "language_info": {
      "name": "python"
    }
  },
  "cells": [
    {
      "cell_type": "markdown",
      "metadata": {
        "id": "view-in-github",
        "colab_type": "text"
      },
      "source": [
        "<a href=\"https://colab.research.google.com/github/emartinmorgan/FF_NFL_Project/blob/main/FF_Ch3_OOP.ipynb\" target=\"_parent\"><img src=\"https://colab.research.google.com/assets/colab-badge.svg\" alt=\"Open In Colab\"/></a>"
      ]
    },
    {
      "cell_type": "markdown",
      "metadata": {
        "id": "yt4LA3LY1Qpj"
      },
      "source": [
        "#Chapter 3 - Object Oriented Programming (OOP)\n",
        "\n",
        "Programming paradigm that allows us to organize our coding by creating objects that contain both data and functions that operate on the date. Structure programs that make them more modular and easier to maintain."
      ]
    },
    {
      "cell_type": "markdown",
      "source": [
        "## Class Attributes, `_init_`, Instatiation"
      ],
      "metadata": {
        "id": "wKaLVlZnaHG_"
      }
    },
    {
      "cell_type": "code",
      "execution_count": null,
      "metadata": {
        "id": "xFCbI4B873jg"
      },
      "outputs": [],
      "source": [
        "#establish a class for an object - a class is a blueprint for an object\n",
        "\n",
        "#multiple names in class --> class RunningBacks:\n",
        "class Player:\n",
        "  #constructor class- what attributes belong to a class, not methods\n",
        "  #have methods (functions within a class); self is a representation of a specific instance of a class\n",
        "  def __init__(self, name, pos, catches, targets, rushing_attempts, rushing_yards):\n",
        "    self.name = name\n",
        "    self.pos = pos\n",
        "    self.catches = catches\n",
        "    self.targets = targets\n",
        "    self.rushing_attempts = rushing_attempts\n",
        "    self.rushing_yards = rushing_yards\n",
        "\n",
        "  def catch_rate(self):\n",
        "    return self.catches/self.targets\n",
        "    #self is an abstraction that refers to a\n",
        "    #specific instance of a class without referencing that instance\n",
        "\n",
        "  def yards_per_carry(self):\n",
        "    return self.rushing_yards/self.rushing_attempts\n",
        "\n",
        "  #reference a previous method in a new method. The value in this method is the\n",
        "  #return value of a previous method or the full method of this class\n",
        "  def efficiency(self):\n",
        "    return{\n",
        "        'catch_rate': self.catch_rate(),\n",
        "        'yards_per_carry': self.yards_per_carry()\n",
        "    }"
      ]
    },
    {
      "cell_type": "code",
      "execution_count": null,
      "metadata": {
        "id": "wE0oOMyO-0IV"
      },
      "outputs": [],
      "source": [
        "#create an instance of a class\n",
        "#justin jefferson\n",
        "jj = Player(name='Justin Jefferson', pos='WR',catches=123,targets=184)\n",
        "#^^set the instance of class (Player) equal to a variable (jj), call class like\n",
        "#it's a function. Here we are creating an instance of a class\n",
        "#jj is like self...it is an abstraction of this specific instance of the Player class\n",
        "\n",
        "#note this returns an error since the rushing_attempts and rushing_yards attributes are not defined for jj"
      ]
    },
    {
      "cell_type": "code",
      "execution_count": null,
      "metadata": {
        "id": "O9w3bwc0h_A9"
      },
      "outputs": [],
      "source": [
        "jj = Player(name='Justin Jefferson', pos='WR',catches=123,targets=184, rushing_attempts=150, rushing_yards=1000)"
      ]
    },
    {
      "cell_type": "code",
      "execution_count": null,
      "metadata": {
        "colab": {
          "base_uri": "https://localhost:8080/"
        },
        "id": "NIiNJfqoAO-o",
        "outputId": "778bb566-ad5f-490e-c589-7c1fe98b121f"
      },
      "outputs": [
        {
          "data": {
            "text/plain": [
              "0.6684782608695652"
            ]
          },
          "execution_count": 8,
          "metadata": {},
          "output_type": "execute_result"
        }
      ],
      "source": [
        "#call attributes on these classes\n",
        "jj.name\n",
        "jj.pos\n",
        "jj.catches\n",
        "#call methods on these classes. Methods reference the attributes and do some kind of manipulation\n",
        "jj.catch_rate()\n",
        "\n",
        "#this is how we can reorganize code from previous chapters into the form of classes"
      ]
    },
    {
      "cell_type": "code",
      "execution_count": null,
      "metadata": {
        "colab": {
          "base_uri": "https://localhost:8080/"
        },
        "id": "dUNl_9XOA4ov",
        "outputId": "80153e0c-4ba6-4813-c87f-b7fa6c82a09b"
      },
      "outputs": [
        {
          "name": "stdout",
          "output_type": "stream",
          "text": [
            "{'catch_rate': 0.6858974358974359, 'yards_per_carry': 8.2}\n"
          ]
        }
      ],
      "source": [
        "#ceedee lamb\n",
        "cdl = Player('CeedeeLamb','WR',107,156,10,82) #fyi this is positional/order\n",
        "#the above method is using keywords. Positional vs keyword - both are all or nothing\n",
        "#have to do all one or all other\n",
        "\n",
        "print(cdl.catch_rate())\n",
        "print(cdl.yards_per_carry())\n",
        "print(cdl.efficiency()) #produces a dictionary of the two values resulting from the method calls above\n",
        "\n",
        "#can now save these method results to variables - see below"
      ]
    },
    {
      "cell_type": "code",
      "execution_count": null,
      "metadata": {
        "colab": {
          "base_uri": "https://localhost:8080/"
        },
        "id": "vhNw1eDnFUfY",
        "outputId": "9067d738-47fc-4bc6-e012-78adeb4c2a28"
      },
      "outputs": [
        {
          "data": {
            "text/plain": [
              "0.6858974358974359"
            ]
          },
          "execution_count": 14,
          "metadata": {},
          "output_type": "execute_result"
        }
      ],
      "source": [
        "catch_rate = cdl.catch_rate()\n",
        "catch_rate"
      ]
    },
    {
      "cell_type": "code",
      "execution_count": null,
      "metadata": {
        "colab": {
          "base_uri": "https://localhost:8080/"
        },
        "id": "r7llr29MB2n3",
        "outputId": "8d52afc2-3c0d-4922-c343-cb3bb6d10d78"
      },
      "outputs": [
        {
          "data": {
            "text/plain": [
              "8.2"
            ]
          },
          "execution_count": 17,
          "metadata": {},
          "output_type": "execute_result"
        }
      ],
      "source": [
        "yards_per_carry = cdl.yards_per_carry()\n",
        "yards_per_carry"
      ]
    }
  ]
}