{
  "nbformat": 4,
  "nbformat_minor": 0,
  "metadata": {
    "colab": {
      "provenance": [],
      "toc_visible": true,
      "authorship_tag": "ABX9TyN1N2nuZ82FAyqGKJ1Lgxs3",
      "include_colab_link": true
    },
    "kernelspec": {
      "name": "python3",
      "display_name": "Python 3"
    },
    "language_info": {
      "name": "python"
    }
  },
  "cells": [
    {
      "cell_type": "markdown",
      "metadata": {
        "id": "view-in-github",
        "colab_type": "text"
      },
      "source": [
        "<a href=\"https://colab.research.google.com/github/emartinmorgan/FF_NFL_Project/blob/main/FF_Ch2_FuncAndCond.ipynb\" target=\"_parent\"><img src=\"https://colab.research.google.com/assets/colab-badge.svg\" alt=\"Open In Colab\"/></a>"
      ]
    },
    {
      "cell_type": "markdown",
      "metadata": {
        "id": "1zeOYIYV073o"
      },
      "source": [
        "#Chapter 2 - Functions and Conditionals\n",
        "user defined functions and conditionals (control flow of program and boolean)"
      ]
    },
    {
      "cell_type": "markdown",
      "source": [
        "## Intro"
      ],
      "metadata": {
        "id": "ovMdzBqfYVix"
      }
    },
    {
      "cell_type": "code",
      "execution_count": null,
      "metadata": {
        "id": "76TFUJQGVqVy"
      },
      "outputs": [],
      "source": [
        "#user defined functions\n",
        "#randomly generated qb stats:  a dictionary with keys\n",
        "player_a_stats = {\n",
        "    'passing_yards': 250,\n",
        "    'rushing_yards': 40,\n",
        "    'passing_tds': 2,\n",
        "    'rushing_tds': 1,\n",
        "    'interceptions': 0\n",
        "}"
      ]
    },
    {
      "cell_type": "code",
      "execution_count": null,
      "metadata": {
        "id": "Ojyp0HBRWM7m"
      },
      "outputs": [],
      "source": [
        "passing_yards = player_a_stats['passing_yards']\n",
        "rushing_yards = player_a_stats['rushing_yards']\n",
        "passing_tds = player_a_stats['passing_tds']\n",
        "rushing_tds = player_a_stats['rushing_tds']\n",
        "interceptions = player_a_stats['interceptions']"
      ]
    },
    {
      "cell_type": "code",
      "execution_count": null,
      "metadata": {
        "colab": {
          "base_uri": "https://localhost:8080/"
        },
        "id": "HmBAXNF_Wpqv",
        "outputId": "5e4bff43-d773-4ec2-ea5f-43ea72986751"
      },
      "outputs": [
        {
          "data": {
            "text/plain": [
              "28.0"
            ]
          },
          "execution_count": 51,
          "metadata": {},
          "output_type": "execute_result"
        }
      ],
      "source": [
        "passing_yards/25 + rushing_yards/10 + passing_tds*4 + rushing_tds*6 + interceptions*-2"
      ]
    },
    {
      "cell_type": "code",
      "execution_count": null,
      "metadata": {
        "id": "YgeeXfkaXIVm"
      },
      "outputs": [],
      "source": [
        "player_b_stats = {\n",
        "    'passing_yards': 320,\n",
        "    'rushing_yards': 5,\n",
        "    'passing_tds': 3,\n",
        "    'rushing_tds': 0,\n",
        "    'interceptions': 0\n",
        "}"
      ]
    },
    {
      "cell_type": "markdown",
      "source": [
        "## Functions"
      ],
      "metadata": {
        "id": "1EelhtzkYPZg"
      }
    },
    {
      "cell_type": "code",
      "execution_count": null,
      "metadata": {
        "id": "r1Ljj4SBUO9s"
      },
      "outputs": [],
      "source": [
        "# \"\"\"function description within quotes \"\"\"\n",
        "\n",
        "def calculate_fantasy_points(player_stats):\n",
        "  \"\"\"\n",
        "  Function that calculates fantasy points given a player_stats dictionary\n",
        "  \"\"\"\n",
        "  passing_yards = player_stats['passing_yards']\n",
        "  rushing_yards = player_stats['rushing_yards']\n",
        "  passing_tds = player_stats['passing_tds']\n",
        "  rushing_tds = player_stats['rushing_tds']\n",
        "  interceptions = player_stats['interceptions']\n",
        "\n",
        "  return passing_yards/25 + rushing_yards/10 + passing_tds*4 + rushing_tds*6 + interceptions*-2"
      ]
    },
    {
      "cell_type": "code",
      "execution_count": null,
      "metadata": {
        "colab": {
          "base_uri": "https://localhost:8080/"
        },
        "id": "gkjdtOpJYCQV",
        "outputId": "1baeecc5-7c1f-4ef5-c401-15d286d2e79d"
      },
      "outputs": [
        {
          "data": {
            "text/plain": [
              "28.0"
            ]
          },
          "execution_count": 54,
          "metadata": {},
          "output_type": "execute_result"
        }
      ],
      "source": [
        "calculate_fantasy_points(player_a_stats)"
      ]
    },
    {
      "cell_type": "code",
      "execution_count": null,
      "metadata": {
        "colab": {
          "base_uri": "https://localhost:8080/"
        },
        "id": "j8JI3GSEYHfk",
        "outputId": "da85dec6-b210-416a-cf57-8baa42846e29"
      },
      "outputs": [
        {
          "data": {
            "text/plain": [
              "25.3"
            ]
          },
          "execution_count": 55,
          "metadata": {},
          "output_type": "execute_result"
        }
      ],
      "source": [
        "calculate_fantasy_points(player_b_stats)"
      ]
    },
    {
      "cell_type": "code",
      "execution_count": null,
      "metadata": {
        "id": "RL1nXONFYZw8"
      },
      "outputs": [],
      "source": [
        "def calc_catch_rate(catches, targets):\n",
        "  return catches/targets"
      ]
    },
    {
      "cell_type": "code",
      "execution_count": null,
      "metadata": {
        "colab": {
          "base_uri": "https://localhost:8080/"
        },
        "id": "0ASdQeGBbHQe",
        "outputId": "a08416e2-b485-48a0-d5ee-9712ec629dd9"
      },
      "outputs": [
        {
          "data": {
            "text/plain": [
              "0.6666666666666666"
            ]
          },
          "execution_count": 59,
          "metadata": {},
          "output_type": "execute_result"
        }
      ],
      "source": [
        "player_a = {\n",
        "    'catches': 10,\n",
        "    'targets': 15\n",
        "}\n",
        "\n",
        "catch_rate = calc_catch_rate(player_a['catches'],player_a['targets'])\n",
        "catch_rate"
      ]
    },
    {
      "cell_type": "markdown",
      "source": [
        "## Conditional statements & Boolean, Comparison, and Identity Operators"
      ],
      "metadata": {
        "id": "iCxPNwxFYZyY"
      }
    },
    {
      "cell_type": "code",
      "execution_count": null,
      "metadata": {
        "colab": {
          "base_uri": "https://localhost:8080/"
        },
        "id": "7XMMeY1jcFXa",
        "outputId": "b4a9b255-b588-4b81-c863-d4fd063a6661"
      },
      "outputs": [
        {
          "name": "stdout",
          "output_type": "stream",
          "text": [
            "That player had a big game!\n"
          ]
        }
      ],
      "source": [
        "#Conditional Statements\n",
        "fantasy_points = 45\n",
        "position = 'RB'\n",
        "player_name = 'Mike Gesecki'\n",
        "\n",
        "# if fantasy_points > 25 and position == 'TE' and player_name != 'Travis Kelce':\n",
        "#   print('That player had a big game!')\n",
        "# else:\n",
        "#   print('That player did not have a big game :(')\n",
        "\n",
        "if fantasy_points > 10 and position == 'TE':\n",
        "  print('That player had a big game!')\n",
        "elif fantasy_points > 20 and position == 'RB':\n",
        "  print('That player had a big game!')\n",
        "elif fantasy_points > 25 and position == 'QB':\n",
        "  print('That player had a big game!')\n",
        "elif fantasy_points > 25 and position == 'WR':\n",
        "  print('That player had a big game!')\n",
        "else:\n",
        "  print('That player did not have a big game :(')\n"
      ]
    },
    {
      "cell_type": "code",
      "execution_count": null,
      "metadata": {
        "id": "-jjNQgD5gX-f"
      },
      "outputs": [],
      "source": [
        "# built in types to use and check for: int, float, dict, str, list\n",
        "players = [{\n",
        "    'name': 'AJ Brown',\n",
        "    'catches': 88,\n",
        "    'targets': 145\n",
        "}, {\n",
        "    'name': 'CeeDee Lamb',\n",
        "    'catches': 107,\n",
        "    'targets': 156\n",
        "}, {\n",
        "    'name': 'Justin Jefferson',\n",
        "    'catches': 128,\n",
        "    'targets': 184\n",
        "}\n",
        "]\n",
        "\n",
        "def get_catch_rate(player):\n",
        "  if type(player) is not dict:\n",
        "    print(\"You need to pass in a dicitonary\")\n",
        "    return #can only return something once in a function, the function ends after that\n",
        "  else:\n",
        "    pass #don't always need the else pass. Could just end at return, but this can be helpful\n",
        "\n",
        "  catches = player['catches']\n",
        "  targets = player['targets']\n",
        "\n",
        "  if catches > targets:\n",
        "    print(\"You can't have more catches than targets\")\n",
        "  else:\n",
        "    pass\n",
        "\n",
        "  catch_rate = catches/targets\n",
        "\n",
        "  return catch_rate"
      ]
    },
    {
      "cell_type": "code",
      "execution_count": null,
      "metadata": {
        "id": "-Cu-qDoehitk"
      },
      "outputs": [],
      "source": [
        "aj_brown = players[0]"
      ]
    },
    {
      "cell_type": "code",
      "execution_count": null,
      "metadata": {
        "colab": {
          "base_uri": "https://localhost:8080/"
        },
        "id": "gxLnSvN0gnAM",
        "outputId": "774300ce-0de8-4a80-b64d-0fcfd14906ed"
      },
      "outputs": [
        {
          "data": {
            "text/plain": [
              "0.6068965517241379"
            ]
          },
          "execution_count": 94,
          "metadata": {},
          "output_type": "execute_result"
        }
      ],
      "source": [
        "aj_browns_catch_rate = get_catch_rate(aj_brown)\n",
        "\n",
        "aj_browns_catch_rate"
      ]
    },
    {
      "cell_type": "code",
      "execution_count": null,
      "metadata": {
        "colab": {
          "base_uri": "https://localhost:8080/"
        },
        "id": "iiMOqXAqkAEc",
        "outputId": "dd44e752-9cd1-4c9f-bd2d-ef0320d266d4"
      },
      "outputs": [
        {
          "name": "stdout",
          "output_type": "stream",
          "text": [
            "AJ Brown had a catch rate of 0.6068965517241379\n",
            "CeeDee Lamb had a catch rate of 0.6858974358974359\n",
            "Justin Jefferson had a catch rate of 0.6956521739130435\n"
          ]
        }
      ],
      "source": [
        "for player in players:\n",
        "  catch_rate = get_catch_rate(player)\n",
        "  name = player['name']\n",
        "  print(name + ' had a catch rate of ' + str(catch_rate))"
      ]
    },
    {
      "cell_type": "code",
      "execution_count": null,
      "metadata": {
        "colab": {
          "base_uri": "https://localhost:8080/"
        },
        "id": "nqz5jKLJkVkX",
        "outputId": "e6aba662-4d99-4711-ce0c-d0d497bdd5aa"
      },
      "outputs": [
        {
          "name": "stdout",
          "output_type": "stream",
          "text": [
            "You need to pass in a dicitonary\n"
          ]
        }
      ],
      "source": [
        "get_catch_rate(12)"
      ]
    },
    {
      "cell_type": "code",
      "execution_count": null,
      "metadata": {
        "colab": {
          "base_uri": "https://localhost:8080/"
        },
        "id": "Ggl0rUBGkYr8",
        "outputId": "34b55378-0540-43c1-d5c2-22de27f667bd"
      },
      "outputs": [
        {
          "name": "stdout",
          "output_type": "stream",
          "text": [
            "You can't have more catches than targets\n"
          ]
        },
        {
          "data": {
            "text/plain": [
              "1.2"
            ]
          },
          "execution_count": 99,
          "metadata": {},
          "output_type": "execute_result"
        }
      ],
      "source": [
        "get_catch_rate({\n",
        "    'catches':12, 'targets':10\n",
        "})"
      ]
    }
  ]
}